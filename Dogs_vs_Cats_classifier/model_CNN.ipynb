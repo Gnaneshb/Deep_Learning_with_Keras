{
 "cells": [
  {
   "cell_type": "markdown",
   "metadata": {},
   "source": [
    "## Instantiating the a small convnet \n",
    "#### convnet is a stack of Conv2D(with relu activation) and MaxPooling2D layers"
   ]
  },
  {
   "cell_type": "code",
   "execution_count": 2,
   "metadata": {},
   "outputs": [
    {
     "name": "stderr",
     "output_type": "stream",
     "text": [
      "C:\\Users\\Ros\\Anaconda3\\envs\\face\\lib\\site-packages\\h5py\\__init__.py:36: FutureWarning: Conversion of the second argument of issubdtype from `float` to `np.floating` is deprecated. In future, it will be treated as `np.float64 == np.dtype(float).type`.\n",
      "  from ._conv import register_converters as _register_converters\n",
      "Using TensorFlow backend.\n"
     ]
    }
   ],
   "source": [
    "from keras import layers\n",
    "from keras import models"
   ]
  },
  {
   "cell_type": "code",
   "execution_count": 3,
   "metadata": {},
   "outputs": [],
   "source": [
    "model = models.Sequential()\n",
    "\n",
    "model.add(layers.Conv2D(32,(3,3),activation='relu',input_shape=(150,150,3)))\n",
    "model.add(layers.MaxPool2D((2,2)))\n",
    "\n",
    "model.add(layers.Conv2D(64,(3,3),activation='relu'))\n",
    "model.add(layers.MaxPool2D((2,2)))\n",
    "\n",
    "model.add(layers.Conv2D(128,(3,3),activation='relu'))\n",
    "model.add(layers.MaxPool2D((2,2)))\n",
    "\n",
    "model.add(layers.Conv2D(128,(3,3),activation='relu'))\n",
    "model.add(layers.MaxPool2D((2,2)))\n",
    "\n",
    "model.add(layers.Flatten())\n",
    "\n",
    "model.add(layers.Dense(512,activation='relu'))\n",
    "model.add(layers.Dense(1,activation='sigmoid'))"
   ]
  },
  {
   "cell_type": "code",
   "execution_count": 4,
   "metadata": {
    "scrolled": false
   },
   "outputs": [
    {
     "name": "stdout",
     "output_type": "stream",
     "text": [
      "_________________________________________________________________\n",
      "Layer (type)                 Output Shape              Param #   \n",
      "=================================================================\n",
      "conv2d_1 (Conv2D)            (None, 148, 148, 32)      896       \n",
      "_________________________________________________________________\n",
      "max_pooling2d_1 (MaxPooling2 (None, 74, 74, 32)        0         \n",
      "_________________________________________________________________\n",
      "conv2d_2 (Conv2D)            (None, 72, 72, 64)        18496     \n",
      "_________________________________________________________________\n",
      "max_pooling2d_2 (MaxPooling2 (None, 36, 36, 64)        0         \n",
      "_________________________________________________________________\n",
      "conv2d_3 (Conv2D)            (None, 34, 34, 128)       73856     \n",
      "_________________________________________________________________\n",
      "max_pooling2d_3 (MaxPooling2 (None, 17, 17, 128)       0         \n",
      "_________________________________________________________________\n",
      "conv2d_4 (Conv2D)            (None, 15, 15, 128)       147584    \n",
      "_________________________________________________________________\n",
      "max_pooling2d_4 (MaxPooling2 (None, 7, 7, 128)         0         \n",
      "_________________________________________________________________\n",
      "flatten_1 (Flatten)          (None, 6272)              0         \n",
      "_________________________________________________________________\n",
      "dense_1 (Dense)              (None, 512)               3211776   \n",
      "_________________________________________________________________\n",
      "dense_2 (Dense)              (None, 1)                 513       \n",
      "=================================================================\n",
      "Total params: 3,453,121\n",
      "Trainable params: 3,453,121\n",
      "Non-trainable params: 0\n",
      "_________________________________________________________________\n"
     ]
    }
   ],
   "source": [
    "model.summary()"
   ]
  },
  {
   "cell_type": "markdown",
   "metadata": {},
   "source": [
    "## Configuring the model for training (compilation step)"
   ]
  },
  {
   "cell_type": "code",
   "execution_count": 5,
   "metadata": {},
   "outputs": [],
   "source": [
    "from keras import optimizers\n",
    "\n",
    "model.compile(loss = 'binary_crossentropy',\n",
    "             optimizer = optimizers.RMSprop(lr=1e-4),\n",
    "              metrics = ['acc'] )"
   ]
  },
  {
   "cell_type": "markdown",
   "metadata": {},
   "source": [
    "# Data preprocessing uisng data generator"
   ]
  },
  {
   "cell_type": "code",
   "execution_count": 6,
   "metadata": {},
   "outputs": [
    {
     "data": {
      "text/plain": [
       "'C:\\\\Users\\\\Ros\\\\Desktop\\\\Gnanesh\\\\Deep Learning with Keras'"
      ]
     },
     "execution_count": 6,
     "metadata": {},
     "output_type": "execute_result"
    }
   ],
   "source": [
    "import os\n",
    "os.getcwd()"
   ]
  },
  {
   "cell_type": "code",
   "execution_count": 7,
   "metadata": {},
   "outputs": [],
   "source": [
    "train_dir = 'C:\\\\Users\\\\Ros\\\\Desktop\\\\Gnanesh\\\\Deep Learning with Keras\\\\dogs_vs_cats_small\\\\train'\n",
    "validation_dir = 'C:\\\\Users\\\\Ros\\\\Desktop\\\\Gnanesh\\\\Deep Learning with Keras\\\\dogs_vs_cats_small\\\\validation'"
   ]
  },
  {
   "cell_type": "code",
   "execution_count": 8,
   "metadata": {},
   "outputs": [],
   "source": [
    "from keras.preprocessing.image import ImageDataGenerator\n",
    "\n",
    "#rescale all images by 1/255\n",
    "train_datagen = ImageDataGenerator(rescale=1./255,\n",
    "                                  )\n",
    "test_datagen = ImageDataGenerator(rescale=1./255)\n"
   ]
  },
  {
   "cell_type": "code",
   "execution_count": 9,
   "metadata": {},
   "outputs": [
    {
     "name": "stdout",
     "output_type": "stream",
     "text": [
      "Found 2000 images belonging to 2 classes.\n"
     ]
    }
   ],
   "source": [
    "train_generator = train_datagen.flow_from_directory(train_dir, #Target directory\n",
    "                                                       target_size=(150,150), #resizes all images to 150x150\n",
    "                                                       batch_size = 20,\n",
    "                                                       class_mode = 'binary') #because we use binary_crossentropy loss, we need binary lables\n"
   ]
  },
  {
   "cell_type": "code",
   "execution_count": 10,
   "metadata": {
    "scrolled": true
   },
   "outputs": [
    {
     "name": "stdout",
     "output_type": "stream",
     "text": [
      "Found 1000 images belonging to 2 classes.\n"
     ]
    }
   ],
   "source": [
    "validation_generator = test_datagen.flow_from_directory(validation_dir,\n",
    "                                                       target_size=(150,150),\n",
    "                                                       batch_size = 20,\n",
    "                                                       class_mode = 'binary')"
   ]
  },
  {
   "cell_type": "markdown",
   "metadata": {},
   "source": [
    "printing the shapes of the datas"
   ]
  },
  {
   "cell_type": "code",
   "execution_count": 12,
   "metadata": {},
   "outputs": [
    {
     "name": "stdout",
     "output_type": "stream",
     "text": [
      "data batch shape: (20, 150, 150, 3)\n",
      "labels batch shape: (20,)\n"
     ]
    }
   ],
   "source": [
    "for data_batch, labels_batch in train_generator:\n",
    "    print('data batch shape:',data_batch.shape)\n",
    "    print('labels batch shape:',labels_batch.shape)\n",
    "    break"
   ]
  },
  {
   "cell_type": "markdown",
   "metadata": {},
   "source": [
    "## Fitting the model using a batch generator"
   ]
  },
  {
   "cell_type": "code",
   "execution_count": 15,
   "metadata": {},
   "outputs": [
    {
     "name": "stdout",
     "output_type": "stream",
     "text": [
      "Epoch 1/30\n",
      "100/100 [==============================] - 9s 87ms/step - loss: 0.6898 - acc: 0.5295 - val_loss: 0.6741 - val_acc: 0.6170\n",
      "Epoch 2/30\n",
      "100/100 [==============================] - 6s 59ms/step - loss: 0.6593 - acc: 0.6060 - val_loss: 0.6739 - val_acc: 0.5610\n",
      "Epoch 3/30\n",
      "100/100 [==============================] - 6s 59ms/step - loss: 0.6140 - acc: 0.6590 - val_loss: 0.6122 - val_acc: 0.6790\n",
      "Epoch 4/30\n",
      "100/100 [==============================] - 6s 60ms/step - loss: 0.5707 - acc: 0.7095 - val_loss: 0.5876 - val_acc: 0.6970\n",
      "Epoch 5/30\n",
      "100/100 [==============================] - 6s 60ms/step - loss: 0.5356 - acc: 0.7350 - val_loss: 0.5775 - val_acc: 0.6960\n",
      "Epoch 6/30\n",
      "100/100 [==============================] - 6s 59ms/step - loss: 0.5103 - acc: 0.7480 - val_loss: 0.5841 - val_acc: 0.6880\n",
      "Epoch 7/30\n",
      "100/100 [==============================] - 6s 61ms/step - loss: 0.4804 - acc: 0.7775 - val_loss: 0.5869 - val_acc: 0.6820\n",
      "Epoch 8/30\n",
      "100/100 [==============================] - 6s 59ms/step - loss: 0.4506 - acc: 0.7910 - val_loss: 0.6666 - val_acc: 0.6420\n",
      "Epoch 9/30\n",
      "100/100 [==============================] - 6s 59ms/step - loss: 0.4248 - acc: 0.8050 - val_loss: 0.5425 - val_acc: 0.7150\n",
      "Epoch 10/30\n",
      "100/100 [==============================] - 6s 59ms/step - loss: 0.4014 - acc: 0.8225 - val_loss: 0.6067 - val_acc: 0.7110\n",
      "Epoch 11/30\n",
      "100/100 [==============================] - 6s 60ms/step - loss: 0.3750 - acc: 0.8295 - val_loss: 0.5301 - val_acc: 0.7360\n",
      "Epoch 12/30\n",
      "100/100 [==============================] - 6s 60ms/step - loss: 0.3553 - acc: 0.8480 - val_loss: 0.5818 - val_acc: 0.7050\n",
      "Epoch 13/30\n",
      "100/100 [==============================] - 6s 59ms/step - loss: 0.3284 - acc: 0.8615 - val_loss: 0.6186 - val_acc: 0.7270\n",
      "Epoch 14/30\n",
      "100/100 [==============================] - 6s 59ms/step - loss: 0.3147 - acc: 0.8715 - val_loss: 0.6030 - val_acc: 0.7300\n",
      "Epoch 15/30\n",
      "100/100 [==============================] - 6s 59ms/step - loss: 0.2905 - acc: 0.8835 - val_loss: 0.5491 - val_acc: 0.7350\n",
      "Epoch 16/30\n",
      "100/100 [==============================] - 6s 59ms/step - loss: 0.2598 - acc: 0.8955 - val_loss: 0.5635 - val_acc: 0.7380\n",
      "Epoch 17/30\n",
      "100/100 [==============================] - 6s 59ms/step - loss: 0.2395 - acc: 0.9090 - val_loss: 0.5865 - val_acc: 0.7540\n",
      "Epoch 18/30\n",
      "100/100 [==============================] - 6s 59ms/step - loss: 0.2147 - acc: 0.9245 - val_loss: 0.6160 - val_acc: 0.7550\n",
      "Epoch 19/30\n",
      "100/100 [==============================] - 6s 59ms/step - loss: 0.1888 - acc: 0.9305 - val_loss: 0.6135 - val_acc: 0.7550\n",
      "Epoch 20/30\n",
      "100/100 [==============================] - 6s 59ms/step - loss: 0.1776 - acc: 0.9380 - val_loss: 0.6673 - val_acc: 0.7330\n",
      "Epoch 21/30\n",
      "100/100 [==============================] - 6s 59ms/step - loss: 0.1598 - acc: 0.9405 - val_loss: 0.6275 - val_acc: 0.7430\n",
      "Epoch 22/30\n",
      "100/100 [==============================] - 6s 60ms/step - loss: 0.1389 - acc: 0.9545 - val_loss: 0.7555 - val_acc: 0.7290\n",
      "Epoch 23/30\n",
      "100/100 [==============================] - 6s 59ms/step - loss: 0.1209 - acc: 0.9595 - val_loss: 0.7445 - val_acc: 0.7410\n",
      "Epoch 24/30\n",
      "100/100 [==============================] - 6s 59ms/step - loss: 0.1050 - acc: 0.9640 - val_loss: 0.7446 - val_acc: 0.7310\n",
      "Epoch 25/30\n",
      "100/100 [==============================] - 6s 59ms/step - loss: 0.0875 - acc: 0.9765 - val_loss: 0.7344 - val_acc: 0.7430\n",
      "Epoch 26/30\n",
      "100/100 [==============================] - 6s 59ms/step - loss: 0.0796 - acc: 0.9785 - val_loss: 0.8772 - val_acc: 0.7330\n",
      "Epoch 27/30\n",
      "100/100 [==============================] - 6s 59ms/step - loss: 0.0678 - acc: 0.9795 - val_loss: 0.7738 - val_acc: 0.7320\n",
      "Epoch 28/30\n",
      "100/100 [==============================] - 6s 60ms/step - loss: 0.0548 - acc: 0.9855 - val_loss: 0.8720 - val_acc: 0.7360\n",
      "Epoch 29/30\n",
      "100/100 [==============================] - 6s 60ms/step - loss: 0.0463 - acc: 0.9890 - val_loss: 0.9467 - val_acc: 0.7190\n",
      "Epoch 30/30\n",
      "100/100 [==============================] - 6s 60ms/step - loss: 0.0380 - acc: 0.9905 - val_loss: 0.8918 - val_acc: 0.7280\n"
     ]
    }
   ],
   "source": [
    "history = model.fit_generator(train_generator,\n",
    "                             steps_per_epoch = 100, #20*100 = 2000\n",
    "                             epochs = 30,\n",
    "                             validation_data = validation_generator,\n",
    "                             validation_steps = 50) #(batch_size*steps_per_epoch = number of samples in validation)"
   ]
  },
  {
   "cell_type": "markdown",
   "metadata": {},
   "source": [
    "## Saving the model"
   ]
  },
  {
   "cell_type": "code",
   "execution_count": 16,
   "metadata": {},
   "outputs": [],
   "source": [
    "model.save('dogs_vs_cats_small_1.h5')"
   ]
  },
  {
   "cell_type": "code",
   "execution_count": 20,
   "metadata": {},
   "outputs": [
    {
     "data": {
      "text/plain": [
       "{'val_loss': [0.6741298496723175,\n",
       "  0.6738911783695221,\n",
       "  0.6122048509120941,\n",
       "  0.5875696897506714,\n",
       "  0.5775174087285996,\n",
       "  0.5841072392463684,\n",
       "  0.5868837571144104,\n",
       "  0.6666035509109497,\n",
       "  0.5424906599521637,\n",
       "  0.6066842931509018,\n",
       "  0.5301450115442276,\n",
       "  0.5817541396617889,\n",
       "  0.618617028594017,\n",
       "  0.6029600256681442,\n",
       "  0.549080211520195,\n",
       "  0.5634907284379005,\n",
       "  0.5864907360076904,\n",
       "  0.6159821909666061,\n",
       "  0.6135285276174546,\n",
       "  0.6673487672209739,\n",
       "  0.6275137989223003,\n",
       "  0.7554629257321358,\n",
       "  0.7444675284624099,\n",
       "  0.7445787179470063,\n",
       "  0.7343503764271736,\n",
       "  0.8771575450897217,\n",
       "  0.7738277933001518,\n",
       "  0.8720182144641876,\n",
       "  0.9467032441496849,\n",
       "  0.8918393160402774],\n",
       " 'val_acc': [0.6169999992847442,\n",
       "  0.5610000032186508,\n",
       "  0.6790000063180923,\n",
       "  0.6969999980926513,\n",
       "  0.6959999990463257,\n",
       "  0.68799999833107,\n",
       "  0.6820000004768372,\n",
       "  0.6419999998807907,\n",
       "  0.7150000023841858,\n",
       "  0.7110000002384186,\n",
       "  0.7360000014305115,\n",
       "  0.7050000023841858,\n",
       "  0.7270000004768371,\n",
       "  0.7300000035762787,\n",
       "  0.7350000035762787,\n",
       "  0.7379999959468841,\n",
       "  0.7539999997615814,\n",
       "  0.7550000011920929,\n",
       "  0.755,\n",
       "  0.7330000007152557,\n",
       "  0.7429999959468842,\n",
       "  0.7289999997615815,\n",
       "  0.7410000038146972,\n",
       "  0.7310000050067902,\n",
       "  0.742999997138977,\n",
       "  0.7330000019073486,\n",
       "  0.7320000004768371,\n",
       "  0.7360000014305115,\n",
       "  0.7190000009536743,\n",
       "  0.727999997138977],\n",
       " 'loss': [0.6897925925254822,\n",
       "  0.659340113401413,\n",
       "  0.6140220385789871,\n",
       "  0.5707078838348388,\n",
       "  0.5356281328201294,\n",
       "  0.510279004573822,\n",
       "  0.48041789144277575,\n",
       "  0.4505511876940727,\n",
       "  0.4247862024605274,\n",
       "  0.40140543788671496,\n",
       "  0.37500567361712456,\n",
       "  0.3552627429366112,\n",
       "  0.32835386946797374,\n",
       "  0.3146832878887653,\n",
       "  0.29052080743014813,\n",
       "  0.259824785143137,\n",
       "  0.23953854128718377,\n",
       "  0.21474126107990743,\n",
       "  0.18883560046553613,\n",
       "  0.17761107992380856,\n",
       "  0.1598261461034417,\n",
       "  0.13889148507267238,\n",
       "  0.12094346532598138,\n",
       "  0.10502963852137327,\n",
       "  0.08751922503113746,\n",
       "  0.0795924927201122,\n",
       "  0.06784660066477954,\n",
       "  0.05484402747824788,\n",
       "  0.04630863402038812,\n",
       "  0.03800139535451308],\n",
       " 'acc': [0.5295000006258488,\n",
       "  0.606000000834465,\n",
       "  0.6589999994635583,\n",
       "  0.7095000010728836,\n",
       "  0.7350000029802323,\n",
       "  0.7479999989271164,\n",
       "  0.7775000017881394,\n",
       "  0.791000000834465,\n",
       "  0.8050000017881394,\n",
       "  0.8224999994039536,\n",
       "  0.8294999998807907,\n",
       "  0.8479999989271164,\n",
       "  0.861499999165535,\n",
       "  0.8714999961853027,\n",
       "  0.8834999984502793,\n",
       "  0.895499992966652,\n",
       "  0.9089999949932098,\n",
       "  0.9244999933242798,\n",
       "  0.9304999911785126,\n",
       "  0.9379999947547912,\n",
       "  0.9404999929666519,\n",
       "  0.9544999939203263,\n",
       "  0.9594999915361404,\n",
       "  0.963999992609024,\n",
       "  0.9764999961853027,\n",
       "  0.9784999966621399,\n",
       "  0.979499996304512,\n",
       "  0.9854999971389771,\n",
       "  0.9889999985694885,\n",
       "  0.9904999983310699]}"
      ]
     },
     "execution_count": 20,
     "metadata": {},
     "output_type": "execute_result"
    }
   ],
   "source": [
    "history.history"
   ]
  },
  {
   "cell_type": "markdown",
   "metadata": {},
   "source": [
    "## Displaying the loss and accuracy during training"
   ]
  },
  {
   "cell_type": "code",
   "execution_count": 21,
   "metadata": {},
   "outputs": [],
   "source": [
    "import matplotlib.pyplot as plt\n",
    "\n",
    "acc = history.history['acc']\n",
    "val_acc = history.history['val_acc']\n",
    "loss = history.history['loss']\n",
    "val_loss = history.history[\"val_loss\"]\n",
    "\n",
    "epochs = range(1, len(acc)+1)"
   ]
  },
  {
   "cell_type": "code",
   "execution_count": 24,
   "metadata": {},
   "outputs": [
    {
     "data": {
      "text/plain": [
       "<Figure size 432x288 with 0 Axes>"
      ]
     },
     "execution_count": 24,
     "metadata": {},
     "output_type": "execute_result"
    },
    {
     "data": {
      "image/png": "[encoded data removed]",
      "text/plain": [
       "<Figure size 432x288 with 1 Axes>"
      ]
     },
     "metadata": {},
     "output_type": "display_data"
    },
    {
     "data": {
      "image/png": "[encoded data removed]",
      "text/plain": [
       "<Figure size 432x288 with 1 Axes>"
      ]
     },
     "metadata": {},
     "output_type": "display_data"
    },
    {
     "data": {
      "text/plain": [
       "<Figure size 432x288 with 0 Axes>"
      ]
     },
     "metadata": {},
     "output_type": "display_data"
    }
   ],
   "source": [
    "plt.plot(epochs,loss, 'bo', label = 'Training loss')\n",
    "plt.plot(epochs,val_loss, 'b', label = 'Validation loss')\n",
    "plt.legend()\n",
    "plt.figure()\n",
    "\n",
    "plt.plot(epochs,acc, 'bo', label = 'Training accuracy')\n",
    "plt.plot(epochs,val_acc, 'b', label = 'Validation accuracy')\n",
    "plt.legend()\n",
    "plt.figure()"
   ]
  }
 ],
 "metadata": {
  "kernelspec": {
   "display_name": "Python 3",
   "language": "python",
   "name": "python3"
  },
  "language_info": {
   "codemirror_mode": {
    "name": "ipython",
    "version": 3
   },
   "file_extension": ".py",
   "mimetype": "text/x-python",
   "name": "python",
   "nbconvert_exporter": "python",
   "pygments_lexer": "ipython3",
   "version": "3.6.5"
  }
 },
 "nbformat": 4,
 "nbformat_minor": 2
}
