{
 "cells": [
  {
   "cell_type": "code",
   "execution_count": 2,
   "metadata": {
    "scrolled": true
   },
   "outputs": [
    {
     "name": "stderr",
     "output_type": "stream",
     "text": [
      "C:\\Users\\Ros\\Anaconda3\\envs\\face\\lib\\site-packages\\h5py\\__init__.py:36: FutureWarning: Conversion of the second argument of issubdtype from `float` to `np.floating` is deprecated. In future, it will be treated as `np.float64 == np.dtype(float).type`.\n",
      "  from ._conv import register_converters as _register_converters\n",
      "Using TensorFlow backend.\n",
      "C:\\Users\\Ros\\Anaconda3\\envs\\face\\lib\\site-packages\\keras\\engine\\saving.py:269: UserWarning: No training configuration found in save file: the model was *not* compiled. Compile it manually.\n",
      "  warnings.warn('No training configuration found in save file: '\n"
     ]
    }
   ],
   "source": [
    "from keras import applications\n",
    "from keras.models import load_model\n",
    "# build the VGG16 network\n",
    "#model = applications.VGG16(include_top=False,\n",
    "#                           weights='imagenet')\n",
    "\n",
    "#model = applications.InceptionResNetV2(include_top=False,\n",
    "#                                      weights='imagenet')\n",
    "\n",
    "model = load_model('face-rec_Google.h5')\n",
    "\n",
    "# get the symbolic outputs of each \"key\" layer (we gave them unique names).\n",
    "layer_dict = dict([(layer.name, layer) for layer in model.layers])"
   ]
  },
  {
   "cell_type": "code",
   "execution_count": 3,
   "metadata": {},
   "outputs": [],
   "source": [
    "from keras import backend as K\n",
    "import matplotlib.pyplot as plt\n",
    "import numpy as np"
   ]
  },
  {
   "cell_type": "markdown",
   "metadata": {},
   "source": [
    "### Utility function to convert a tensor to image"
   ]
  },
  {
   "cell_type": "code",
   "execution_count": 4,
   "metadata": {},
   "outputs": [],
   "source": [
    "# util function to convert a tensor into a valid image\n",
    "def deprocess_image(x):\n",
    "    # normalize tensor: center on 0., ensure std is 0.1\n",
    "    x -= x.mean()\n",
    "    x /= (x.std() + 1e-5)\n",
    "    x *= 0.1\n",
    "\n",
    "    # clip to [0, 1]\n",
    "    x += 0.5\n",
    "    x = np.clip(x, 0, 1)\n",
    "\n",
    "    # convert to RGB array\n",
    "    x *= 255\n",
    "    x = x.transpose((1, 2, 0))\n",
    "    x = np.clip(x, 0, 255).astype('uint8')\n",
    "    return x\n",
    "\n"
   ]
  },
  {
   "cell_type": "markdown",
   "metadata": {},
   "source": [
    "### Function to generate filter visuvalization"
   ]
  },
  {
   "cell_type": "code",
   "execution_count": 5,
   "metadata": {},
   "outputs": [],
   "source": [
    "def generate_pattern(layer_name, filter_index, size = 150):\n",
    "    layer_output = layer_dict[layer_name].output\n",
    "    loss = K.mean(layer_output[:, :, :, filter_index])\n",
    "\n",
    "    # compute the gradient of the input picture wrt this loss\n",
    "    grads = K.gradients(loss, model.input)[0]\n",
    "\n",
    "    # normalization trick: we normalize the gradient\n",
    "    grads /= (K.sqrt(K.mean(K.square(grads))) + 1e-5)\n",
    "    iterate = K.function([model.input],[loss, grads])\n",
    "    \n",
    "    input_img_data = np.random.random((1,150,150,3)) * 20 + 128.\n",
    "    \n",
    "    step = 1\n",
    "    for i in range(40):\n",
    "        loss_value, grads_value = iterate([input_img_data])\n",
    "        input_img_data += grads_value * step\n",
    "        \n",
    "    img = input_img_data[0]\n",
    "    return deprocess_image(img)"
   ]
  },
  {
   "cell_type": "code",
   "execution_count": null,
   "metadata": {},
   "outputs": [],
   "source": [
    "img_x = generate_pattern(layer_name,0,size=150)"
   ]
  },
  {
   "cell_type": "code",
   "execution_count": null,
   "metadata": {},
   "outputs": [],
   "source": [
    "img_x.shape"
   ]
  },
  {
   "cell_type": "code",
   "execution_count": null,
   "metadata": {
    "scrolled": true
   },
   "outputs": [],
   "source": [
    "plt.imshow(img_x.reshape(150,150,3))"
   ]
  },
  {
   "cell_type": "code",
   "execution_count": null,
   "metadata": {},
   "outputs": [],
   "source": [
    "import cv2"
   ]
  },
  {
   "cell_type": "code",
   "execution_count": null,
   "metadata": {},
   "outputs": [],
   "source": []
  },
  {
   "cell_type": "code",
   "execution_count": null,
   "metadata": {},
   "outputs": [],
   "source": [
    "img_cat = plt.imread('cat.jpg')\n",
    "plt.imshow(img_cat)"
   ]
  },
  {
   "cell_type": "code",
   "execution_count": null,
   "metadata": {},
   "outputs": [],
   "source": [
    "type(img_cat[0][0][1])"
   ]
  },
  {
   "cell_type": "code",
   "execution_count": null,
   "metadata": {
    "scrolled": true
   },
   "outputs": [],
   "source": [
    "img_cat.shape"
   ]
  },
  {
   "cell_type": "markdown",
   "metadata": {},
   "source": [
    "### image preprocessing "
   ]
  },
  {
   "cell_type": "code",
   "execution_count": 7,
   "metadata": {},
   "outputs": [],
   "source": [
    "from keras.preprocessing import image\n"
   ]
  },
  {
   "cell_type": "code",
   "execution_count": 8,
   "metadata": {},
   "outputs": [],
   "source": [
    "#img_keras = image.load_img('cat.jpg',target_size=(150,150))\n",
    "img_keras = image.load_img('test_img.jpg',target_size=(96,96))"
   ]
  },
  {
   "cell_type": "code",
   "execution_count": 9,
   "metadata": {},
   "outputs": [
    {
     "data": {
      "image/png": "[encoded data removed]",
      "text/plain": [
       "<PIL.Image.Image image mode=RGB size=96x96 at 0x2BCD0D1C550>"
      ]
     },
     "execution_count": 9,
     "metadata": {},
     "output_type": "execute_result"
    }
   ],
   "source": [
    "img_keras"
   ]
  },
  {
   "cell_type": "code",
   "execution_count": 10,
   "metadata": {},
   "outputs": [],
   "source": [
    "img_keras_tensor = image.img_to_array(img_keras)\n",
    "img_keras_tensor = np.expand_dims(img_keras_tensor,axis=0)\n",
    "#img_keras_tensor.shape\n",
    "img_keras_tensor /=255."
   ]
  },
  {
   "cell_type": "code",
   "execution_count": 11,
   "metadata": {},
   "outputs": [
    {
     "data": {
      "text/plain": [
       "<matplotlib.image.AxesImage at 0x2bcd6d55a20>"
      ]
     },
     "execution_count": 11,
     "metadata": {},
     "output_type": "execute_result"
    },
    {
     "data": {
      "image/png": "[encoded data removed]",
      "text/plain": [
       "<Figure size 432x288 with 1 Axes>"
      ]
     },
     "metadata": {},
     "output_type": "display_data"
    }
   ],
   "source": [
    "plt.imshow(img_keras_tensor[0])"
   ]
  },
  {
   "cell_type": "code",
   "execution_count": 12,
   "metadata": {},
   "outputs": [],
   "source": [
    "def generate_pattern_2(img,layer_name, filter_index,size = 96):\n",
    "    layer_output = layer_dict[layer_name].output\n",
    "    loss = K.mean(layer_output[:, :, :, filter_index])\n",
    "\n",
    "    # compute the gradient of the input picture wrt this loss\n",
    "    grads = K.gradients(loss, model.input)[0]\n",
    "\n",
    "    # normalization trick: we normalize the gradient\n",
    "    grads /= (K.sqrt(K.mean(K.square(grads))) + 1e-5)\n",
    "    iterate = K.function([model.input],[loss, grads])\n",
    "    \n",
    "    #input_img_data = np.random.random((1,size,size,3)) * 20 + 128.\n",
    "    #print(input_img_data.shape)\n",
    "    input_img_data = img\n",
    "    \n",
    "    step = 1\n",
    "    for i in range(40):\n",
    "        loss_value, grads_value = iterate([input_img_data])\n",
    "        input_img_data += grads_value * step\n",
    "        \n",
    "    img = input_img_data[0]\n",
    "    return deprocess_image(img).reshape(size,size,3)"
   ]
  },
  {
   "cell_type": "code",
   "execution_count": 13,
   "metadata": {},
   "outputs": [
    {
     "name": "stdout",
     "output_type": "stream",
     "text": [
      "__________________________________________________________________________________________________\n",
      "Layer (type)                    Output Shape         Param #     Connected to                     \n",
      "==================================================================================================\n",
      "input_1 (InputLayer)            (None, 3, 96, 96)    0                                            \n",
      "__________________________________________________________________________________________________\n",
      "zero_padding2d_1 (ZeroPadding2D (None, 3, 102, 102)  0           input_1[0][0]                    \n",
      "__________________________________________________________________________________________________\n",
      "conv1 (Conv2D)                  (None, 64, 48, 48)   9472        zero_padding2d_1[0][0]           \n",
      "__________________________________________________________________________________________________\n",
      "bn1 (BatchNormalization)        (None, 64, 48, 48)   256         conv1[0][0]                      \n",
      "__________________________________________________________________________________________________\n",
      "activation_1 (Activation)       (None, 64, 48, 48)   0           bn1[0][0]                        \n",
      "__________________________________________________________________________________________________\n",
      "zero_padding2d_2 (ZeroPadding2D (None, 64, 50, 50)   0           activation_1[0][0]               \n",
      "__________________________________________________________________________________________________\n",
      "max_pooling2d_1 (MaxPooling2D)  (None, 64, 24, 24)   0           zero_padding2d_2[0][0]           \n",
      "__________________________________________________________________________________________________\n",
      "conv2 (Conv2D)                  (None, 64, 24, 24)   4160        max_pooling2d_1[0][0]            \n",
      "__________________________________________________________________________________________________\n",
      "bn2 (BatchNormalization)        (None, 64, 24, 24)   256         conv2[0][0]                      \n",
      "__________________________________________________________________________________________________\n",
      "activation_2 (Activation)       (None, 64, 24, 24)   0           bn2[0][0]                        \n",
      "__________________________________________________________________________________________________\n",
      "zero_padding2d_3 (ZeroPadding2D (None, 64, 26, 26)   0           activation_2[0][0]               \n",
      "__________________________________________________________________________________________________\n",
      "conv3 (Conv2D)                  (None, 192, 24, 24)  110784      zero_padding2d_3[0][0]           \n",
      "__________________________________________________________________________________________________\n",
      "bn3 (BatchNormalization)        (None, 192, 24, 24)  768         conv3[0][0]                      \n",
      "__________________________________________________________________________________________________\n",
      "activation_3 (Activation)       (None, 192, 24, 24)  0           bn3[0][0]                        \n",
      "__________________________________________________________________________________________________\n",
      "zero_padding2d_4 (ZeroPadding2D (None, 192, 26, 26)  0           activation_3[0][0]               \n",
      "__________________________________________________________________________________________________\n",
      "max_pooling2d_2 (MaxPooling2D)  (None, 192, 12, 12)  0           zero_padding2d_4[0][0]           \n",
      "__________________________________________________________________________________________________\n",
      "inception_3a_3x3_conv1 (Conv2D) (None, 96, 12, 12)   18528       max_pooling2d_2[0][0]            \n",
      "__________________________________________________________________________________________________\n",
      "inception_3a_5x5_conv1 (Conv2D) (None, 16, 12, 12)   3088        max_pooling2d_2[0][0]            \n",
      "__________________________________________________________________________________________________\n",
      "inception_3a_3x3_bn1 (BatchNorm (None, 96, 12, 12)   384         inception_3a_3x3_conv1[0][0]     \n",
      "__________________________________________________________________________________________________\n",
      "inception_3a_5x5_bn1 (BatchNorm (None, 16, 12, 12)   64          inception_3a_5x5_conv1[0][0]     \n",
      "__________________________________________________________________________________________________\n",
      "activation_4 (Activation)       (None, 96, 12, 12)   0           inception_3a_3x3_bn1[0][0]       \n",
      "__________________________________________________________________________________________________\n",
      "activation_6 (Activation)       (None, 16, 12, 12)   0           inception_3a_5x5_bn1[0][0]       \n",
      "__________________________________________________________________________________________________\n",
      "max_pooling2d_3 (MaxPooling2D)  (None, 192, 5, 5)    0           max_pooling2d_2[0][0]            \n",
      "__________________________________________________________________________________________________\n",
      "zero_padding2d_5 (ZeroPadding2D (None, 96, 14, 14)   0           activation_4[0][0]               \n",
      "__________________________________________________________________________________________________\n",
      "zero_padding2d_6 (ZeroPadding2D (None, 16, 16, 16)   0           activation_6[0][0]               \n",
      "__________________________________________________________________________________________________\n",
      "inception_3a_pool_conv (Conv2D) (None, 32, 5, 5)     6176        max_pooling2d_3[0][0]            \n",
      "__________________________________________________________________________________________________\n",
      "inception_3a_3x3_conv2 (Conv2D) (None, 128, 12, 12)  110720      zero_padding2d_5[0][0]           \n",
      "__________________________________________________________________________________________________\n",
      "inception_3a_5x5_conv2 (Conv2D) (None, 32, 12, 12)   12832       zero_padding2d_6[0][0]           \n",
      "__________________________________________________________________________________________________\n",
      "inception_3a_pool_bn (BatchNorm (None, 32, 5, 5)     128         inception_3a_pool_conv[0][0]     \n",
      "__________________________________________________________________________________________________\n",
      "inception_3a_1x1_conv (Conv2D)  (None, 64, 12, 12)   12352       max_pooling2d_2[0][0]            \n",
      "__________________________________________________________________________________________________\n",
      "inception_3a_3x3_bn2 (BatchNorm (None, 128, 12, 12)  512         inception_3a_3x3_conv2[0][0]     \n",
      "__________________________________________________________________________________________________\n",
      "inception_3a_5x5_bn2 (BatchNorm (None, 32, 12, 12)   128         inception_3a_5x5_conv2[0][0]     \n",
      "__________________________________________________________________________________________________\n",
      "activation_8 (Activation)       (None, 32, 5, 5)     0           inception_3a_pool_bn[0][0]       \n",
      "__________________________________________________________________________________________________\n",
      "inception_3a_1x1_bn (BatchNorma (None, 64, 12, 12)   256         inception_3a_1x1_conv[0][0]      \n",
      "__________________________________________________________________________________________________\n",
      "activation_5 (Activation)       (None, 128, 12, 12)  0           inception_3a_3x3_bn2[0][0]       \n",
      "__________________________________________________________________________________________________\n",
      "activation_7 (Activation)       (None, 32, 12, 12)   0           inception_3a_5x5_bn2[0][0]       \n",
      "__________________________________________________________________________________________________\n",
      "zero_padding2d_7 (ZeroPadding2D (None, 32, 12, 12)   0           activation_8[0][0]               \n",
      "__________________________________________________________________________________________________\n",
      "activation_9 (Activation)       (None, 64, 12, 12)   0           inception_3a_1x1_bn[0][0]        \n",
      "__________________________________________________________________________________________________\n",
      "concatenate_1 (Concatenate)     (None, 256, 12, 12)  0           activation_5[0][0]               \n",
      "                                                                 activation_7[0][0]               \n",
      "                                                                 zero_padding2d_7[0][0]           \n",
      "                                                                 activation_9[0][0]               \n",
      "__________________________________________________________________________________________________\n",
      "inception_3b_3x3_conv1 (Conv2D) (None, 96, 12, 12)   24672       concatenate_1[0][0]              \n",
      "__________________________________________________________________________________________________\n",
      "inception_3b_5x5_conv1 (Conv2D) (None, 32, 12, 12)   8224        concatenate_1[0][0]              \n",
      "__________________________________________________________________________________________________\n",
      "inception_3b_3x3_bn1 (BatchNorm (None, 96, 12, 12)   384         inception_3b_3x3_conv1[0][0]     \n",
      "__________________________________________________________________________________________________\n",
      "inception_3b_5x5_bn1 (BatchNorm (None, 32, 12, 12)   128         inception_3b_5x5_conv1[0][0]     \n",
      "__________________________________________________________________________________________________\n",
      "activation_10 (Activation)      (None, 96, 12, 12)   0           inception_3b_3x3_bn1[0][0]       \n",
      "__________________________________________________________________________________________________\n",
      "activation_12 (Activation)      (None, 32, 12, 12)   0           inception_3b_5x5_bn1[0][0]       \n",
      "__________________________________________________________________________________________________\n",
      "average_pooling2d_1 (AveragePoo (None, 256, 4, 4)    0           concatenate_1[0][0]              \n",
      "__________________________________________________________________________________________________\n",
      "zero_padding2d_8 (ZeroPadding2D (None, 96, 14, 14)   0           activation_10[0][0]              \n",
      "__________________________________________________________________________________________________\n",
      "zero_padding2d_9 (ZeroPadding2D (None, 32, 16, 16)   0           activation_12[0][0]              \n",
      "__________________________________________________________________________________________________\n",
      "inception_3b_pool_conv (Conv2D) (None, 64, 4, 4)     16448       average_pooling2d_1[0][0]        \n",
      "__________________________________________________________________________________________________\n",
      "inception_3b_3x3_conv2 (Conv2D) (None, 128, 12, 12)  110720      zero_padding2d_8[0][0]           \n",
      "__________________________________________________________________________________________________\n",
      "inception_3b_5x5_conv2 (Conv2D) (None, 64, 12, 12)   51264       zero_padding2d_9[0][0]           \n",
      "__________________________________________________________________________________________________\n",
      "inception_3b_pool_bn (BatchNorm (None, 64, 4, 4)     256         inception_3b_pool_conv[0][0]     \n",
      "__________________________________________________________________________________________________\n",
      "inception_3b_1x1_conv (Conv2D)  (None, 64, 12, 12)   16448       concatenate_1[0][0]              \n",
      "__________________________________________________________________________________________________\n",
      "inception_3b_3x3_bn2 (BatchNorm (None, 128, 12, 12)  512         inception_3b_3x3_conv2[0][0]     \n",
      "__________________________________________________________________________________________________\n",
      "inception_3b_5x5_bn2 (BatchNorm (None, 64, 12, 12)   256         inception_3b_5x5_conv2[0][0]     \n",
      "__________________________________________________________________________________________________\n",
      "activation_14 (Activation)      (None, 64, 4, 4)     0           inception_3b_pool_bn[0][0]       \n",
      "__________________________________________________________________________________________________\n",
      "inception_3b_1x1_bn (BatchNorma (None, 64, 12, 12)   256         inception_3b_1x1_conv[0][0]      \n",
      "__________________________________________________________________________________________________\n",
      "activation_11 (Activation)      (None, 128, 12, 12)  0           inception_3b_3x3_bn2[0][0]       \n",
      "__________________________________________________________________________________________________\n",
      "activation_13 (Activation)      (None, 64, 12, 12)   0           inception_3b_5x5_bn2[0][0]       \n",
      "__________________________________________________________________________________________________\n",
      "zero_padding2d_10 (ZeroPadding2 (None, 64, 12, 12)   0           activation_14[0][0]              \n",
      "__________________________________________________________________________________________________\n",
      "activation_15 (Activation)      (None, 64, 12, 12)   0           inception_3b_1x1_bn[0][0]        \n",
      "__________________________________________________________________________________________________\n",
      "concatenate_2 (Concatenate)     (None, 320, 12, 12)  0           activation_11[0][0]              \n",
      "                                                                 activation_13[0][0]              \n",
      "                                                                 zero_padding2d_10[0][0]          \n",
      "                                                                 activation_15[0][0]              \n",
      "__________________________________________________________________________________________________\n",
      "inception_3c_3x3_conv1 (Conv2D) (None, 128, 12, 12)  41088       concatenate_2[0][0]              \n",
      "__________________________________________________________________________________________________\n",
      "inception_3c_5x5_conv1 (Conv2D) (None, 32, 12, 12)   10272       concatenate_2[0][0]              \n",
      "__________________________________________________________________________________________________\n",
      "inception_3c_3x3_bn1 (BatchNorm (None, 128, 12, 12)  512         inception_3c_3x3_conv1[0][0]     \n",
      "__________________________________________________________________________________________________\n",
      "inception_3c_5x5_bn1 (BatchNorm (None, 32, 12, 12)   128         inception_3c_5x5_conv1[0][0]     \n",
      "__________________________________________________________________________________________________\n",
      "activation_16 (Activation)      (None, 128, 12, 12)  0           inception_3c_3x3_bn1[0][0]       \n",
      "__________________________________________________________________________________________________\n",
      "activation_18 (Activation)      (None, 32, 12, 12)   0           inception_3c_5x5_bn1[0][0]       \n",
      "__________________________________________________________________________________________________\n",
      "zero_padding2d_11 (ZeroPadding2 (None, 128, 14, 14)  0           activation_16[0][0]              \n",
      "__________________________________________________________________________________________________\n",
      "zero_padding2d_12 (ZeroPadding2 (None, 32, 16, 16)   0           activation_18[0][0]              \n",
      "__________________________________________________________________________________________________\n",
      "inception_3c_3x3_conv2 (Conv2D) (None, 256, 6, 6)    295168      zero_padding2d_11[0][0]          \n",
      "__________________________________________________________________________________________________\n",
      "inception_3c_5x5_conv2 (Conv2D) (None, 64, 6, 6)     51264       zero_padding2d_12[0][0]          \n",
      "__________________________________________________________________________________________________\n",
      "inception_3c_3x3_bn2 (BatchNorm (None, 256, 6, 6)    1024        inception_3c_3x3_conv2[0][0]     \n",
      "__________________________________________________________________________________________________\n",
      "inception_3c_5x5_bn2 (BatchNorm (None, 64, 6, 6)     256         inception_3c_5x5_conv2[0][0]     \n",
      "__________________________________________________________________________________________________\n",
      "max_pooling2d_4 (MaxPooling2D)  (None, 320, 5, 5)    0           concatenate_2[0][0]              \n",
      "__________________________________________________________________________________________________\n",
      "activation_17 (Activation)      (None, 256, 6, 6)    0           inception_3c_3x3_bn2[0][0]       \n",
      "__________________________________________________________________________________________________\n",
      "activation_19 (Activation)      (None, 64, 6, 6)     0           inception_3c_5x5_bn2[0][0]       \n",
      "__________________________________________________________________________________________________\n",
      "zero_padding2d_13 (ZeroPadding2 (None, 320, 6, 6)    0           max_pooling2d_4[0][0]            \n",
      "__________________________________________________________________________________________________\n",
      "concatenate_3 (Concatenate)     (None, 640, 6, 6)    0           activation_17[0][0]              \n",
      "                                                                 activation_19[0][0]              \n",
      "                                                                 zero_padding2d_13[0][0]          \n",
      "__________________________________________________________________________________________________\n",
      "inception_4a_3x3_conv1 (Conv2D) (None, 96, 6, 6)     61536       concatenate_3[0][0]              \n",
      "__________________________________________________________________________________________________\n",
      "inception_4a_5x5_conv1 (Conv2D) (None, 32, 6, 6)     20512       concatenate_3[0][0]              \n",
      "__________________________________________________________________________________________________\n",
      "inception_4a_3x3_bn1 (BatchNorm (None, 96, 6, 6)     384         inception_4a_3x3_conv1[0][0]     \n",
      "__________________________________________________________________________________________________\n",
      "inception_4a_5x5_bn1 (BatchNorm (None, 32, 6, 6)     128         inception_4a_5x5_conv1[0][0]     \n",
      "__________________________________________________________________________________________________\n",
      "activation_20 (Activation)      (None, 96, 6, 6)     0           inception_4a_3x3_bn1[0][0]       \n",
      "__________________________________________________________________________________________________\n",
      "activation_22 (Activation)      (None, 32, 6, 6)     0           inception_4a_5x5_bn1[0][0]       \n",
      "__________________________________________________________________________________________________\n",
      "average_pooling2d_2 (AveragePoo (None, 640, 2, 2)    0           concatenate_3[0][0]              \n",
      "__________________________________________________________________________________________________\n",
      "zero_padding2d_14 (ZeroPadding2 (None, 96, 8, 8)     0           activation_20[0][0]              \n",
      "__________________________________________________________________________________________________\n",
      "zero_padding2d_15 (ZeroPadding2 (None, 32, 10, 10)   0           activation_22[0][0]              \n",
      "__________________________________________________________________________________________________\n",
      "inception_4a_pool_conv (Conv2D) (None, 128, 2, 2)    82048       average_pooling2d_2[0][0]        \n",
      "__________________________________________________________________________________________________\n",
      "inception_4a_3x3_conv2 (Conv2D) (None, 192, 6, 6)    166080      zero_padding2d_14[0][0]          \n",
      "__________________________________________________________________________________________________\n",
      "inception_4a_5x5_conv2 (Conv2D) (None, 64, 6, 6)     51264       zero_padding2d_15[0][0]          \n",
      "__________________________________________________________________________________________________\n",
      "inception_4a_pool_bn (BatchNorm (None, 128, 2, 2)    512         inception_4a_pool_conv[0][0]     \n",
      "__________________________________________________________________________________________________\n",
      "inception_4a_1x1_conv (Conv2D)  (None, 256, 6, 6)    164096      concatenate_3[0][0]              \n",
      "__________________________________________________________________________________________________\n",
      "inception_4a_3x3_bn2 (BatchNorm (None, 192, 6, 6)    768         inception_4a_3x3_conv2[0][0]     \n",
      "__________________________________________________________________________________________________\n",
      "inception_4a_5x5_bn2 (BatchNorm (None, 64, 6, 6)     256         inception_4a_5x5_conv2[0][0]     \n",
      "__________________________________________________________________________________________________\n",
      "activation_24 (Activation)      (None, 128, 2, 2)    0           inception_4a_pool_bn[0][0]       \n",
      "__________________________________________________________________________________________________\n",
      "inception_4a_1x1_bn (BatchNorma (None, 256, 6, 6)    1024        inception_4a_1x1_conv[0][0]      \n",
      "__________________________________________________________________________________________________\n",
      "activation_21 (Activation)      (None, 192, 6, 6)    0           inception_4a_3x3_bn2[0][0]       \n",
      "__________________________________________________________________________________________________\n",
      "activation_23 (Activation)      (None, 64, 6, 6)     0           inception_4a_5x5_bn2[0][0]       \n",
      "__________________________________________________________________________________________________\n",
      "zero_padding2d_16 (ZeroPadding2 (None, 128, 6, 6)    0           activation_24[0][0]              \n",
      "__________________________________________________________________________________________________\n",
      "activation_25 (Activation)      (None, 256, 6, 6)    0           inception_4a_1x1_bn[0][0]        \n",
      "__________________________________________________________________________________________________\n",
      "concatenate_4 (Concatenate)     (None, 640, 6, 6)    0           activation_21[0][0]              \n",
      "                                                                 activation_23[0][0]              \n",
      "                                                                 zero_padding2d_16[0][0]          \n",
      "                                                                 activation_25[0][0]              \n",
      "__________________________________________________________________________________________________\n",
      "inception_4e_3x3_conv1 (Conv2D) (None, 160, 6, 6)    102560      concatenate_4[0][0]              \n",
      "__________________________________________________________________________________________________\n",
      "inception_4e_5x5_conv1 (Conv2D) (None, 64, 6, 6)     41024       concatenate_4[0][0]              \n",
      "__________________________________________________________________________________________________\n",
      "inception_4e_3x3_bn1 (BatchNorm (None, 160, 6, 6)    640         inception_4e_3x3_conv1[0][0]     \n",
      "__________________________________________________________________________________________________\n",
      "inception_4e_5x5_bn1 (BatchNorm (None, 64, 6, 6)     256         inception_4e_5x5_conv1[0][0]     \n",
      "__________________________________________________________________________________________________\n",
      "activation_26 (Activation)      (None, 160, 6, 6)    0           inception_4e_3x3_bn1[0][0]       \n",
      "__________________________________________________________________________________________________\n",
      "activation_28 (Activation)      (None, 64, 6, 6)     0           inception_4e_5x5_bn1[0][0]       \n",
      "__________________________________________________________________________________________________\n",
      "zero_padding2d_17 (ZeroPadding2 (None, 160, 8, 8)    0           activation_26[0][0]              \n",
      "__________________________________________________________________________________________________\n",
      "zero_padding2d_18 (ZeroPadding2 (None, 64, 10, 10)   0           activation_28[0][0]              \n",
      "__________________________________________________________________________________________________\n",
      "inception_4e_3x3_conv2 (Conv2D) (None, 256, 3, 3)    368896      zero_padding2d_17[0][0]          \n",
      "__________________________________________________________________________________________________\n",
      "inception_4e_5x5_conv2 (Conv2D) (None, 128, 3, 3)    204928      zero_padding2d_18[0][0]          \n",
      "__________________________________________________________________________________________________\n",
      "inception_4e_3x3_bn2 (BatchNorm (None, 256, 3, 3)    1024        inception_4e_3x3_conv2[0][0]     \n",
      "__________________________________________________________________________________________________\n",
      "inception_4e_5x5_bn2 (BatchNorm (None, 128, 3, 3)    512         inception_4e_5x5_conv2[0][0]     \n",
      "__________________________________________________________________________________________________\n",
      "max_pooling2d_5 (MaxPooling2D)  (None, 640, 2, 2)    0           concatenate_4[0][0]              \n",
      "__________________________________________________________________________________________________\n",
      "activation_27 (Activation)      (None, 256, 3, 3)    0           inception_4e_3x3_bn2[0][0]       \n",
      "__________________________________________________________________________________________________\n",
      "activation_29 (Activation)      (None, 128, 3, 3)    0           inception_4e_5x5_bn2[0][0]       \n",
      "__________________________________________________________________________________________________\n",
      "zero_padding2d_19 (ZeroPadding2 (None, 640, 3, 3)    0           max_pooling2d_5[0][0]            \n",
      "__________________________________________________________________________________________________\n",
      "concatenate_5 (Concatenate)     (None, 1024, 3, 3)   0           activation_27[0][0]              \n",
      "                                                                 activation_29[0][0]              \n",
      "                                                                 zero_padding2d_19[0][0]          \n",
      "__________________________________________________________________________________________________\n",
      "inception_5a_3x3_conv1 (Conv2D) (None, 96, 3, 3)     98400       concatenate_5[0][0]              \n",
      "__________________________________________________________________________________________________\n",
      "inception_5a_3x3_bn1 (BatchNorm (None, 96, 3, 3)     384         inception_5a_3x3_conv1[0][0]     \n",
      "__________________________________________________________________________________________________\n",
      "activation_30 (Activation)      (None, 96, 3, 3)     0           inception_5a_3x3_bn1[0][0]       \n",
      "__________________________________________________________________________________________________\n",
      "average_pooling2d_3 (AveragePoo (None, 1024, 1, 1)   0           concatenate_5[0][0]              \n",
      "__________________________________________________________________________________________________\n",
      "zero_padding2d_20 (ZeroPadding2 (None, 96, 5, 5)     0           activation_30[0][0]              \n",
      "__________________________________________________________________________________________________\n",
      "inception_5a_pool_conv (Conv2D) (None, 96, 1, 1)     98400       average_pooling2d_3[0][0]        \n",
      "__________________________________________________________________________________________________\n",
      "inception_5a_3x3_conv2 (Conv2D) (None, 384, 3, 3)    332160      zero_padding2d_20[0][0]          \n",
      "__________________________________________________________________________________________________\n",
      "inception_5a_pool_bn (BatchNorm (None, 96, 1, 1)     384         inception_5a_pool_conv[0][0]     \n",
      "__________________________________________________________________________________________________\n",
      "inception_5a_1x1_conv (Conv2D)  (None, 256, 3, 3)    262400      concatenate_5[0][0]              \n",
      "__________________________________________________________________________________________________\n",
      "inception_5a_3x3_bn2 (BatchNorm (None, 384, 3, 3)    1536        inception_5a_3x3_conv2[0][0]     \n",
      "__________________________________________________________________________________________________\n",
      "activation_32 (Activation)      (None, 96, 1, 1)     0           inception_5a_pool_bn[0][0]       \n",
      "__________________________________________________________________________________________________\n",
      "inception_5a_1x1_bn (BatchNorma (None, 256, 3, 3)    1024        inception_5a_1x1_conv[0][0]      \n",
      "__________________________________________________________________________________________________\n",
      "activation_31 (Activation)      (None, 384, 3, 3)    0           inception_5a_3x3_bn2[0][0]       \n",
      "__________________________________________________________________________________________________\n",
      "zero_padding2d_21 (ZeroPadding2 (None, 96, 3, 3)     0           activation_32[0][0]              \n",
      "__________________________________________________________________________________________________\n",
      "activation_33 (Activation)      (None, 256, 3, 3)    0           inception_5a_1x1_bn[0][0]        \n",
      "__________________________________________________________________________________________________\n",
      "concatenate_6 (Concatenate)     (None, 736, 3, 3)    0           activation_31[0][0]              \n",
      "                                                                 zero_padding2d_21[0][0]          \n",
      "                                                                 activation_33[0][0]              \n",
      "__________________________________________________________________________________________________\n",
      "inception_5b_3x3_conv1 (Conv2D) (None, 96, 3, 3)     70752       concatenate_6[0][0]              \n",
      "__________________________________________________________________________________________________\n",
      "inception_5b_3x3_bn1 (BatchNorm (None, 96, 3, 3)     384         inception_5b_3x3_conv1[0][0]     \n",
      "__________________________________________________________________________________________________\n",
      "activation_34 (Activation)      (None, 96, 3, 3)     0           inception_5b_3x3_bn1[0][0]       \n",
      "__________________________________________________________________________________________________\n",
      "max_pooling2d_6 (MaxPooling2D)  (None, 736, 1, 1)    0           concatenate_6[0][0]              \n",
      "__________________________________________________________________________________________________\n",
      "zero_padding2d_22 (ZeroPadding2 (None, 96, 5, 5)     0           activation_34[0][0]              \n",
      "__________________________________________________________________________________________________\n",
      "inception_5b_pool_conv (Conv2D) (None, 96, 1, 1)     70752       max_pooling2d_6[0][0]            \n",
      "__________________________________________________________________________________________________\n",
      "inception_5b_3x3_conv2 (Conv2D) (None, 384, 3, 3)    332160      zero_padding2d_22[0][0]          \n",
      "__________________________________________________________________________________________________\n",
      "inception_5b_pool_bn (BatchNorm (None, 96, 1, 1)     384         inception_5b_pool_conv[0][0]     \n",
      "__________________________________________________________________________________________________\n",
      "inception_5b_1x1_conv (Conv2D)  (None, 256, 3, 3)    188672      concatenate_6[0][0]              \n",
      "__________________________________________________________________________________________________\n",
      "inception_5b_3x3_bn2 (BatchNorm (None, 384, 3, 3)    1536        inception_5b_3x3_conv2[0][0]     \n",
      "__________________________________________________________________________________________________\n",
      "activation_36 (Activation)      (None, 96, 1, 1)     0           inception_5b_pool_bn[0][0]       \n",
      "__________________________________________________________________________________________________\n",
      "inception_5b_1x1_bn (BatchNorma (None, 256, 3, 3)    1024        inception_5b_1x1_conv[0][0]      \n",
      "__________________________________________________________________________________________________\n",
      "activation_35 (Activation)      (None, 384, 3, 3)    0           inception_5b_3x3_bn2[0][0]       \n",
      "__________________________________________________________________________________________________\n",
      "zero_padding2d_23 (ZeroPadding2 (None, 96, 3, 3)     0           activation_36[0][0]              \n",
      "__________________________________________________________________________________________________\n",
      "activation_37 (Activation)      (None, 256, 3, 3)    0           inception_5b_1x1_bn[0][0]        \n",
      "__________________________________________________________________________________________________\n",
      "concatenate_7 (Concatenate)     (None, 736, 3, 3)    0           activation_35[0][0]              \n",
      "                                                                 zero_padding2d_23[0][0]          \n",
      "                                                                 activation_37[0][0]              \n",
      "__________________________________________________________________________________________________\n",
      "average_pooling2d_4 (AveragePoo (None, 736, 1, 1)    0           concatenate_7[0][0]              \n",
      "__________________________________________________________________________________________________\n",
      "flatten_1 (Flatten)             (None, 736)          0           average_pooling2d_4[0][0]        \n",
      "__________________________________________________________________________________________________\n",
      "dense_layer (Dense)             (None, 128)          94336       flatten_1[0][0]                  \n",
      "__________________________________________________________________________________________________\n",
      "lambda_1 (Lambda)               (None, 128)          0           dense_layer[0][0]                \n",
      "==================================================================================================\n",
      "Total params: 3,743,280\n",
      "Trainable params: 3,733,968\n",
      "Non-trainable params: 9,312\n",
      "__________________________________________________________________________________________________\n"
     ]
    }
   ],
   "source": [
    "model.summary()"
   ]
  },
  {
   "cell_type": "code",
   "execution_count": 10,
   "metadata": {},
   "outputs": [
    {
     "data": {
      "text/plain": [
       "{'input_1': <keras.engine.input_layer.InputLayer at 0x2e2fcc36dd8>,\n",
       " 'zero_padding2d_1': <keras.layers.convolutional.ZeroPadding2D at 0x2e2fcc4f390>,\n",
       " 'conv1': <keras.layers.convolutional.Conv2D at 0x2e2fcc4f128>,\n",
       " 'bn1': <keras.layers.normalization.BatchNormalization at 0x2e2fcc4f358>,\n",
       " 'activation_1': <keras.layers.core.Activation at 0x2e2fcc4f550>,\n",
       " 'zero_padding2d_2': <keras.layers.convolutional.ZeroPadding2D at 0x2e2fcc4f588>,\n",
       " 'max_pooling2d_1': <keras.layers.pooling.MaxPooling2D at 0x2e2fcc4f5f8>,\n",
       " 'conv2': <keras.layers.convolutional.Conv2D at 0x2e2fcc4f6a0>,\n",
       " 'bn2': <keras.layers.normalization.BatchNormalization at 0x2e2fcc4f828>,\n",
       " 'activation_2': <keras.layers.core.Activation at 0x2e2fcc4f940>,\n",
       " 'zero_padding2d_3': <keras.layers.convolutional.ZeroPadding2D at 0x2e2fcc4f978>,\n",
       " 'conv3': <keras.layers.convolutional.Conv2D at 0x2e2fcc4f9e8>,\n",
       " 'bn3': <keras.layers.normalization.BatchNormalization at 0x2e2fcc4fb70>,\n",
       " 'activation_3': <keras.layers.core.Activation at 0x2e2fcc4fc88>,\n",
       " 'zero_padding2d_4': <keras.layers.convolutional.ZeroPadding2D at 0x2e2fcc4fcc0>,\n",
       " 'max_pooling2d_2': <keras.layers.pooling.MaxPooling2D at 0x2e2fcc4fd30>,\n",
       " 'inception_3a_3x3_conv1': <keras.layers.convolutional.Conv2D at 0x2e2fcc4fdd8>,\n",
       " 'inception_3a_5x5_conv1': <keras.layers.convolutional.Conv2D at 0x2e2fcc4ff60>,\n",
       " 'inception_3a_3x3_bn1': <keras.layers.normalization.BatchNormalization at 0x2e2fcc61128>,\n",
       " 'inception_3a_5x5_bn1': <keras.layers.normalization.BatchNormalization at 0x2e2fcc61240>,\n",
       " 'activation_4': <keras.layers.core.Activation at 0x2e2fcc61358>,\n",
       " 'activation_6': <keras.layers.core.Activation at 0x2e2fcc61390>,\n",
       " 'max_pooling2d_3': <keras.layers.pooling.MaxPooling2D at 0x2e2fcc613c8>,\n",
       " 'zero_padding2d_5': <keras.layers.convolutional.ZeroPadding2D at 0x2e2fcc61470>,\n",
       " 'zero_padding2d_6': <keras.layers.convolutional.ZeroPadding2D at 0x2e2fcc614e0>,\n",
       " 'inception_3a_pool_conv': <keras.layers.convolutional.Conv2D at 0x2e2fcc61550>,\n",
       " 'inception_3a_3x3_conv2': <keras.layers.convolutional.Conv2D at 0x2e2fcc616d8>,\n",
       " 'inception_3a_5x5_conv2': <keras.layers.convolutional.Conv2D at 0x2e2fcc61860>,\n",
       " 'inception_3a_pool_bn': <keras.layers.normalization.BatchNormalization at 0x2e2fcc619e8>,\n",
       " 'inception_3a_1x1_conv': <keras.layers.convolutional.Conv2D at 0x2e2fcc61b00>,\n",
       " 'inception_3a_3x3_bn2': <keras.layers.normalization.BatchNormalization at 0x2e2fcc61c88>,\n",
       " 'inception_3a_5x5_bn2': <keras.layers.normalization.BatchNormalization at 0x2e2fcc61da0>,\n",
       " 'activation_8': <keras.layers.core.Activation at 0x2e2fcc61eb8>,\n",
       " 'inception_3a_1x1_bn': <keras.layers.normalization.BatchNormalization at 0x2e2fcc61ef0>,\n",
       " 'activation_5': <keras.layers.core.Activation at 0x2e2fcc36e48>,\n",
       " 'activation_7': <keras.layers.core.Activation at 0x2e2fcc68080>,\n",
       " 'zero_padding2d_7': <keras.layers.convolutional.ZeroPadding2D at 0x2e2fcc680b8>,\n",
       " 'activation_9': <keras.layers.core.Activation at 0x2e2fcc68128>,\n",
       " 'concatenate_1': <keras.layers.merge.Concatenate at 0x2e2fcc68160>,\n",
       " 'inception_3b_3x3_conv1': <keras.layers.convolutional.Conv2D at 0x2e2fcc68198>,\n",
       " 'inception_3b_5x5_conv1': <keras.layers.convolutional.Conv2D at 0x2e2fcc68320>,\n",
       " 'inception_3b_3x3_bn1': <keras.layers.normalization.BatchNormalization at 0x2e2fcc684a8>,\n",
       " 'inception_3b_5x5_bn1': <keras.layers.normalization.BatchNormalization at 0x2e2fcc685c0>,\n",
       " 'activation_10': <keras.layers.core.Activation at 0x2e2fcc686d8>,\n",
       " 'activation_12': <keras.layers.core.Activation at 0x2e2fcc68710>,\n",
       " 'average_pooling2d_1': <keras.layers.pooling.AveragePooling2D at 0x2e2fcc68748>,\n",
       " 'zero_padding2d_8': <keras.layers.convolutional.ZeroPadding2D at 0x2e2fcc687f0>,\n",
       " 'zero_padding2d_9': <keras.layers.convolutional.ZeroPadding2D at 0x2e2fcc68860>,\n",
       " 'inception_3b_pool_conv': <keras.layers.convolutional.Conv2D at 0x2e2fcc688d0>,\n",
       " 'inception_3b_3x3_conv2': <keras.layers.convolutional.Conv2D at 0x2e2fcc68a58>,\n",
       " 'inception_3b_5x5_conv2': <keras.layers.convolutional.Conv2D at 0x2e2fcc68be0>,\n",
       " 'inception_3b_pool_bn': <keras.layers.normalization.BatchNormalization at 0x2e2fcc68d68>,\n",
       " 'inception_3b_1x1_conv': <keras.layers.convolutional.Conv2D at 0x2e2fcc68e80>,\n",
       " 'inception_3b_3x3_bn2': <keras.layers.normalization.BatchNormalization at 0x2e2fcc6e048>,\n",
       " 'inception_3b_5x5_bn2': <keras.layers.normalization.BatchNormalization at 0x2e2fcc6e160>,\n",
       " 'activation_14': <keras.layers.core.Activation at 0x2e2fcc6e278>,\n",
       " 'inception_3b_1x1_bn': <keras.layers.normalization.BatchNormalization at 0x2e2fcc6e2b0>,\n",
       " 'activation_11': <keras.layers.core.Activation at 0x2e2fcc6e3c8>,\n",
       " 'activation_13': <keras.layers.core.Activation at 0x2e2fcc6e400>,\n",
       " 'zero_padding2d_10': <keras.layers.convolutional.ZeroPadding2D at 0x2e2fcc6e438>,\n",
       " 'activation_15': <keras.layers.core.Activation at 0x2e2fcc6e4a8>,\n",
       " 'concatenate_2': <keras.layers.merge.Concatenate at 0x2e2fcc6e4e0>,\n",
       " 'inception_3c_3x3_conv1': <keras.layers.convolutional.Conv2D at 0x2e2fcc6e518>,\n",
       " 'inception_3c_5x5_conv1': <keras.layers.convolutional.Conv2D at 0x2e2fcc6e6a0>,\n",
       " 'inception_3c_3x3_bn1': <keras.layers.normalization.BatchNormalization at 0x2e2fcc6e828>,\n",
       " 'inception_3c_5x5_bn1': <keras.layers.normalization.BatchNormalization at 0x2e2fcc6e940>,\n",
       " 'activation_16': <keras.layers.core.Activation at 0x2e2fcc6ea58>,\n",
       " 'activation_18': <keras.layers.core.Activation at 0x2e2fcc6ea90>,\n",
       " 'zero_padding2d_11': <keras.layers.convolutional.ZeroPadding2D at 0x2e2fcc6eac8>,\n",
       " 'zero_padding2d_12': <keras.layers.convolutional.ZeroPadding2D at 0x2e2fcc6eb38>,\n",
       " 'inception_3c_3x3_conv2': <keras.layers.convolutional.Conv2D at 0x2e2fcc6eba8>,\n",
       " 'inception_3c_5x5_conv2': <keras.layers.convolutional.Conv2D at 0x2e2fcc6ed30>,\n",
       " 'inception_3c_3x3_bn2': <keras.layers.normalization.BatchNormalization at 0x2e2fcc6eeb8>,\n",
       " 'inception_3c_5x5_bn2': <keras.layers.normalization.BatchNormalization at 0x2e2fcc61fd0>,\n",
       " 'max_pooling2d_4': <keras.layers.pooling.MaxPooling2D at 0x2e2fcc78128>,\n",
       " 'activation_17': <keras.layers.core.Activation at 0x2e2fcc781d0>,\n",
       " 'activation_19': <keras.layers.core.Activation at 0x2e2fcc78208>,\n",
       " 'zero_padding2d_13': <keras.layers.convolutional.ZeroPadding2D at 0x2e2fcc78240>,\n",
       " 'concatenate_3': <keras.layers.merge.Concatenate at 0x2e2fcc782b0>,\n",
       " 'inception_4a_3x3_conv1': <keras.layers.convolutional.Conv2D at 0x2e2fcc782e8>,\n",
       " 'inception_4a_5x5_conv1': <keras.layers.convolutional.Conv2D at 0x2e2fcc78470>,\n",
       " 'inception_4a_3x3_bn1': <keras.layers.normalization.BatchNormalization at 0x2e2fcc785f8>,\n",
       " 'inception_4a_5x5_bn1': <keras.layers.normalization.BatchNormalization at 0x2e2fcc78710>,\n",
       " 'activation_20': <keras.layers.core.Activation at 0x2e2fcc78828>,\n",
       " 'activation_22': <keras.layers.core.Activation at 0x2e2fcc78860>,\n",
       " 'average_pooling2d_2': <keras.layers.pooling.AveragePooling2D at 0x2e2fcc78898>,\n",
       " 'zero_padding2d_14': <keras.layers.convolutional.ZeroPadding2D at 0x2e2fcc78940>,\n",
       " 'zero_padding2d_15': <keras.layers.convolutional.ZeroPadding2D at 0x2e2fcc789b0>,\n",
       " 'inception_4a_pool_conv': <keras.layers.convolutional.Conv2D at 0x2e2fcc78a20>,\n",
       " 'inception_4a_3x3_conv2': <keras.layers.convolutional.Conv2D at 0x2e2fcc78ba8>,\n",
       " 'inception_4a_5x5_conv2': <keras.layers.convolutional.Conv2D at 0x2e2fcc78d30>,\n",
       " 'inception_4a_pool_bn': <keras.layers.normalization.BatchNormalization at 0x2e2fcc78eb8>,\n",
       " 'inception_4a_1x1_conv': <keras.layers.convolutional.Conv2D at 0x2e2fcc6efd0>,\n",
       " 'inception_4a_3x3_bn2': <keras.layers.normalization.BatchNormalization at 0x2e2fcc83198>,\n",
       " 'inception_4a_5x5_bn2': <keras.layers.normalization.BatchNormalization at 0x2e2fcc832b0>,\n",
       " 'activation_24': <keras.layers.core.Activation at 0x2e2fcc833c8>,\n",
       " 'inception_4a_1x1_bn': <keras.layers.normalization.BatchNormalization at 0x2e2fcc83400>,\n",
       " 'activation_21': <keras.layers.core.Activation at 0x2e2fcc83518>,\n",
       " 'activation_23': <keras.layers.core.Activation at 0x2e2fcc83550>,\n",
       " 'zero_padding2d_16': <keras.layers.convolutional.ZeroPadding2D at 0x2e2fcc83588>,\n",
       " 'activation_25': <keras.layers.core.Activation at 0x2e2fcc835f8>,\n",
       " 'concatenate_4': <keras.layers.merge.Concatenate at 0x2e2fcc83630>,\n",
       " 'inception_4e_3x3_conv1': <keras.layers.convolutional.Conv2D at 0x2e2fcc83668>,\n",
       " 'inception_4e_5x5_conv1': <keras.layers.convolutional.Conv2D at 0x2e2fcc837f0>,\n",
       " 'inception_4e_3x3_bn1': <keras.layers.normalization.BatchNormalization at 0x2e2fcc83978>,\n",
       " 'inception_4e_5x5_bn1': <keras.layers.normalization.BatchNormalization at 0x2e2fcc83a90>,\n",
       " 'activation_26': <keras.layers.core.Activation at 0x2e2fcc83ba8>,\n",
       " 'activation_28': <keras.layers.core.Activation at 0x2e2fcc83be0>,\n",
       " 'zero_padding2d_17': <keras.layers.convolutional.ZeroPadding2D at 0x2e2fcc83c18>,\n",
       " 'zero_padding2d_18': <keras.layers.convolutional.ZeroPadding2D at 0x2e2fcc83c88>,\n",
       " 'inception_4e_3x3_conv2': <keras.layers.convolutional.Conv2D at 0x2e2fcc83cf8>,\n",
       " 'inception_4e_5x5_conv2': <keras.layers.convolutional.Conv2D at 0x2e2fcc83e80>,\n",
       " 'inception_4e_3x3_bn2': <keras.layers.normalization.BatchNormalization at 0x2e2fcc88048>,\n",
       " 'inception_4e_5x5_bn2': <keras.layers.normalization.BatchNormalization at 0x2e2fcc88160>,\n",
       " 'max_pooling2d_5': <keras.layers.pooling.MaxPooling2D at 0x2e2fcc88278>,\n",
       " 'activation_27': <keras.layers.core.Activation at 0x2e2fcc88320>,\n",
       " 'activation_29': <keras.layers.core.Activation at 0x2e2fcc88358>,\n",
       " 'zero_padding2d_19': <keras.layers.convolutional.ZeroPadding2D at 0x2e2fcc88390>,\n",
       " 'concatenate_5': <keras.layers.merge.Concatenate at 0x2e2fcc88400>,\n",
       " 'inception_5a_3x3_conv1': <keras.layers.convolutional.Conv2D at 0x2e2fcc88438>,\n",
       " 'inception_5a_3x3_bn1': <keras.layers.normalization.BatchNormalization at 0x2e2fcc885c0>,\n",
       " 'activation_30': <keras.layers.core.Activation at 0x2e2fcc886d8>,\n",
       " 'average_pooling2d_3': <keras.layers.pooling.AveragePooling2D at 0x2e2fcc88710>,\n",
       " 'zero_padding2d_20': <keras.layers.convolutional.ZeroPadding2D at 0x2e2fcc887b8>,\n",
       " 'inception_5a_pool_conv': <keras.layers.convolutional.Conv2D at 0x2e2fcc88828>,\n",
       " 'inception_5a_3x3_conv2': <keras.layers.convolutional.Conv2D at 0x2e2fcc889b0>,\n",
       " 'inception_5a_pool_bn': <keras.layers.normalization.BatchNormalization at 0x2e2fcc88b38>,\n",
       " 'inception_5a_1x1_conv': <keras.layers.convolutional.Conv2D at 0x2e2fcc88c50>,\n",
       " 'inception_5a_3x3_bn2': <keras.layers.normalization.BatchNormalization at 0x2e2fcc88dd8>,\n",
       " 'activation_32': <keras.layers.core.Activation at 0x2e2fcc88ef0>,\n",
       " 'inception_5a_1x1_bn': <keras.layers.normalization.BatchNormalization at 0x2e2fcc88f28>,\n",
       " 'activation_31': <keras.layers.core.Activation at 0x2e2fcc78fd0>,\n",
       " 'zero_padding2d_21': <keras.layers.convolutional.ZeroPadding2D at 0x2e2fcc910b8>,\n",
       " 'activation_33': <keras.layers.core.Activation at 0x2e2fcc91128>,\n",
       " 'concatenate_6': <keras.layers.merge.Concatenate at 0x2e2fcc91160>,\n",
       " 'inception_5b_3x3_conv1': <keras.layers.convolutional.Conv2D at 0x2e2fcc91198>,\n",
       " 'inception_5b_3x3_bn1': <keras.layers.normalization.BatchNormalization at 0x2e2fcc91320>,\n",
       " 'activation_34': <keras.layers.core.Activation at 0x2e2fcc91438>,\n",
       " 'max_pooling2d_6': <keras.layers.pooling.MaxPooling2D at 0x2e2fcc91470>,\n",
       " 'zero_padding2d_22': <keras.layers.convolutional.ZeroPadding2D at 0x2e2fcc91518>,\n",
       " 'inception_5b_pool_conv': <keras.layers.convolutional.Conv2D at 0x2e2fcc91588>,\n",
       " 'inception_5b_3x3_conv2': <keras.layers.convolutional.Conv2D at 0x2e2fcc91710>,\n",
       " 'inception_5b_pool_bn': <keras.layers.normalization.BatchNormalization at 0x2e2fcc91898>,\n",
       " 'inception_5b_1x1_conv': <keras.layers.convolutional.Conv2D at 0x2e2fcc919b0>,\n",
       " 'inception_5b_3x3_bn2': <keras.layers.normalization.BatchNormalization at 0x2e2fcc91b38>,\n",
       " 'activation_36': <keras.layers.core.Activation at 0x2e2fcc91c50>,\n",
       " 'inception_5b_1x1_bn': <keras.layers.normalization.BatchNormalization at 0x2e2fcc91c88>,\n",
       " 'activation_35': <keras.layers.core.Activation at 0x2e2fcc91da0>,\n",
       " 'zero_padding2d_23': <keras.layers.convolutional.ZeroPadding2D at 0x2e2fcc91dd8>,\n",
       " 'activation_37': <keras.layers.core.Activation at 0x2e2fcc91e48>,\n",
       " 'concatenate_7': <keras.layers.merge.Concatenate at 0x2e2fcc91e80>,\n",
       " 'average_pooling2d_4': <keras.layers.pooling.AveragePooling2D at 0x2e2fcc91eb8>,\n",
       " 'flatten_1': <keras.layers.core.Flatten at 0x2e2fcc91f60>,\n",
       " 'dense_layer': <keras.layers.core.Dense at 0x2e2fcc88fd0>,\n",
       " 'lambda_1': <keras.layers.core.Lambda at 0x2e2fcc91fd0>}"
      ]
     },
     "execution_count": 10,
     "metadata": {},
     "output_type": "execute_result"
    }
   ],
   "source": [
    "layer_dict"
   ]
  },
  {
   "cell_type": "code",
   "execution_count": null,
   "metadata": {},
   "outputs": [],
   "source": [
    "model.summary()"
   ]
  },
  {
   "cell_type": "markdown",
   "metadata": {},
   "source": [
    "### testing our function"
   ]
  },
  {
   "cell_type": "code",
   "execution_count": null,
   "metadata": {},
   "outputs": [],
   "source": [
    "img_y = generate_pattern_2(img_keras_tensor,layer_name = 'inception_3b_3x3_conv1',filter_index=0,size=96)"
   ]
  },
  {
   "cell_type": "code",
   "execution_count": null,
   "metadata": {},
   "outputs": [],
   "source": [
    "img_y.shape"
   ]
  },
  {
   "cell_type": "code",
   "execution_count": null,
   "metadata": {},
   "outputs": [],
   "source": [
    "plt.imshow(img_keras_tensor[0])"
   ]
  },
  {
   "cell_type": "code",
   "execution_count": 16,
   "metadata": {},
   "outputs": [
    {
     "data": {
      "text/plain": [
       "<matplotlib.image.AxesImage at 0x2e4586ba780>"
      ]
     },
     "execution_count": 16,
     "metadata": {},
     "output_type": "execute_result"
    },
    {
     "data": {
      "image/png": "[encoded data removed]",
      "text/plain": [
       "<Figure size 432x288 with 1 Axes>"
      ]
     },
     "metadata": {},
     "output_type": "display_data"
    }
   ],
   "source": [
    "plt.imshow(img_y)"
   ]
  },
  {
   "cell_type": "markdown",
   "metadata": {},
   "source": [
    "### generating a grid of all filter response patterns in a layer"
   ]
  },
  {
   "cell_type": "code",
   "execution_count": null,
   "metadata": {},
   "outputs": [],
   "source": [
    "layer_dict"
   ]
  },
  {
   "cell_type": "code",
   "execution_count": null,
   "metadata": {},
   "outputs": [],
   "source": [
    "layer_name = 'block5_conv3'\n",
    "size = 64\n",
    "margin = 5\n",
    "\n",
    "results = np.zeros((8*size+7*margin, 8*size+7 * margin, 3))"
   ]
  },
  {
   "cell_type": "code",
   "execution_count": null,
   "metadata": {},
   "outputs": [],
   "source": [
    "results.shape"
   ]
  },
  {
   "cell_type": "code",
   "execution_count": null,
   "metadata": {},
   "outputs": [],
   "source": [
    "results[0:64,0:64, :].shape"
   ]
  },
  {
   "cell_type": "code",
   "execution_count": null,
   "metadata": {},
   "outputs": [],
   "source": []
  },
  {
   "cell_type": "code",
   "execution_count": null,
   "metadata": {
    "scrolled": true
   },
   "outputs": [],
   "source": [
    "for i in range(8):\n",
    "    for j in range(8):\n",
    "        filter_img = generate_pattern_2(layer_name,i +(j*8),size=size)\n",
    "        #plt.imshow(filter_img)\n",
    "        horizontal_start = i*size + i*margin\n",
    "        horizontal_end = horizontal_start + size\n",
    "        vertical_start = j*size + j*margin\n",
    "        vertical_end = vertical_start + size\n",
    "        results[horizontal_start:vertical_start,vertical_end:horizontal_end, : ] = filter_img\n",
    "        #results[horizontal_start:horizontal_end,vertical_start:vertical_end, : ] = filter_img\n",
    "        \n",
    "plt.figure(figsize=(20,20))\n",
    "plt.imshow(results)"
   ]
  },
  {
   "cell_type": "code",
   "execution_count": null,
   "metadata": {},
   "outputs": [],
   "source": [
    "64*64*3"
   ]
  },
  {
   "cell_type": "code",
   "execution_count": null,
   "metadata": {},
   "outputs": [],
   "source": [
    "\n",
    "for i in range(8):\n",
    "    for j in range(8):\n",
    "        filter_img = generate_pattern_2(layer_name,i +(j*8),size=size)\n",
    "        plt.subplot(8,8,8*j + i + 1)\n",
    "        #plt.imshow(filter_img)\n",
    "        #horizontal_start = i*size + i*margin\n",
    "        #horizontal_end = horizontal_start + size\n",
    "        #vertical_start = j*size + j*margin\n",
    "        #vertical_end = vertical_start + size\n",
    "        \n",
    "        plt.figure(figsize=(20,20))\n",
    "        plt.imshow(filter_img)\n",
    "plt.show()"
   ]
  }
 ],
 "metadata": {
  "kernelspec": {
   "display_name": "Python 3",
   "language": "python",
   "name": "python3"
  },
  "language_info": {
   "codemirror_mode": {
    "name": "ipython",
    "version": 3
   },
   "file_extension": ".py",
   "mimetype": "text/x-python",
   "name": "python",
   "nbconvert_exporter": "python",
   "pygments_lexer": "ipython3",
   "version": "3.6.5"
  }
 },
 "nbformat": 4,
 "nbformat_minor": 2
}
